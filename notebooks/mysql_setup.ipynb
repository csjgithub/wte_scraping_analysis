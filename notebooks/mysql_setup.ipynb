{
 "cells": [
  {
   "cell_type": "code",
   "execution_count": 6,
   "id": "desperate-verse",
   "metadata": {},
   "outputs": [],
   "source": [
    "import mysql.connector\n",
    "import config"
   ]
  },
  {
   "cell_type": "code",
   "execution_count": 17,
   "id": "ongoing-showcase",
   "metadata": {},
   "outputs": [
    {
     "data": {
      "text/plain": [
       "{'user': 'root',\n",
       " 'password': 'TrattKattarell123!',\n",
       " 'host': '127.0.0.1',\n",
       " 'database': 'wtedb'}"
      ]
     },
     "execution_count": 17,
     "metadata": {},
     "output_type": "execute_result"
    }
   ],
   "source": [
    "config.mysql"
   ]
  },
  {
   "cell_type": "code",
   "execution_count": 19,
   "id": "spread-commons",
   "metadata": {},
   "outputs": [],
   "source": [
    "conn = mysql.connector.connect(user = config.mysql['user'], password = config.mysql['password'],\n",
    "                              host = config.mysql['host'], database = config.mysql['database'])\n",
    "cursor = conn.cursor()"
   ]
  },
  {
   "cell_type": "code",
   "execution_count": 20,
   "id": "coordinate-protest",
   "metadata": {},
   "outputs": [],
   "source": [
    "cursor.execute(\"\"\"CREATE TABLE IF NOT EXISTS subforum_list (\n",
    "                subforum_href varchar(50)\n",
    "              )\"\"\")"
   ]
  }
 ],
 "metadata": {
  "kernelspec": {
   "display_name": "Python 3",
   "language": "python",
   "name": "python3"
  },
  "language_info": {
   "codemirror_mode": {
    "name": "ipython",
    "version": 3
   },
   "file_extension": ".py",
   "mimetype": "text/x-python",
   "name": "python",
   "nbconvert_exporter": "python",
   "pygments_lexer": "ipython3",
   "version": "3.8.5"
  }
 },
 "nbformat": 4,
 "nbformat_minor": 5
}
